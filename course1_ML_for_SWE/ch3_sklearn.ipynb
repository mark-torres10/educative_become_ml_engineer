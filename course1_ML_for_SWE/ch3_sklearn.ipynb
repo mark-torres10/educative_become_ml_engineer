{
 "cells": [
  {
   "cell_type": "code",
   "execution_count": 11,
   "metadata": {},
   "outputs": [],
   "source": [
    "import sklearn\n",
    "import numpy as np\n",
    "import pandas as pd\n",
    "from sklearn.preprocessing import scale\n",
    "from sklearn.preprocessing import MinMaxScaler\n",
    "from sklearn.preprocessing import RobustScaler\n"
   ]
  },
  {
   "cell_type": "markdown",
   "metadata": {},
   "source": [
    "We are using a variety of transformers that are available in sklearn. They all have similar structures \n",
    "and implement a fit_transform() method. These transformers allow us to perform a variety of data \n",
    "preprocessing steps on our data"
   ]
  },
  {
   "cell_type": "markdown",
   "metadata": {},
   "source": [
    "#### Standardizing Data\n",
    "\n",
    "For each data value, x, we subtract the overall mean of the data, μ, then divide by the overall standard deviation, \n",
    "σ. The new value, z, represents the standardized data value."
   ]
  },
  {
   "cell_type": "code",
   "execution_count": 3,
   "metadata": {},
   "outputs": [
    {
     "name": "stdout",
     "output_type": "stream",
     "text": [
      "array([[2100,   10,  800],\n",
      "       [2500,   11,  850],\n",
      "       [1800,   10,  760],\n",
      "       [2000,   12,  800],\n",
      "       [2300,   11,  810]])\n",
      "\n",
      "array([[-0.16552118, -1.06904497, -0.1393466 ],\n",
      "       [ 1.4896906 ,  0.26726124,  1.60248593],\n",
      "       [-1.40693001, -1.06904497, -1.53281263],\n",
      "       [-0.57932412,  1.60356745, -0.1393466 ],\n",
      "       [ 0.66208471,  0.26726124,  0.2090199 ]])\n",
      "\n",
      "array([ 0., -0.,  0.])\n",
      "\n",
      "array([1., 1., 1.])\n",
      "\n"
     ]
    }
   ],
   "source": [
    "# standardizing data\n",
    "pizza_data = np.array([[2100,   10,  800],\n",
    "                       [2500,   11,  850],\n",
    "                       [1800,   10,  760],\n",
    "                       [2000,   12,  800],\n",
    "                       [2300,   11,  810]])\n",
    "\n",
    "\n",
    "# Newline to separate print statements\n",
    "print('{}\\n'.format(repr(pizza_data)))\n",
    "\n",
    "# Standardizing each column of pizza_data\n",
    "col_standardized = scale(pizza_data)\n",
    "print('{}\\n'.format(repr(col_standardized)))\n",
    "\n",
    "# Column means (rounded to nearest thousandth)\n",
    "col_means = col_standardized.mean(axis=0).round(decimals=3)\n",
    "print('{}\\n'.format(repr(col_means)))\n",
    "\n",
    "# Column standard deviations\n",
    "col_stds = col_standardized.std(axis=0)\n",
    "print('{}\\n'.format(repr(col_stds)))\n",
    "\n",
    "\n",
    "# we normally do separate standardizations for each column (so that each column is a standardized version of itself)"
   ]
  },
  {
   "cell_type": "markdown",
   "metadata": {},
   "source": [
    "We can also compress data to a particular range of values (e.g., make every data point be from [0, 1] or some other custom range). \n",
    "\n",
    "The formula for scaling based on a range is a two-step process. For a given data value, x, we first compute the proportion of the value with respect to the min and max of the data dmin and dmax, respectively).\n",
    "\n",
    "$x_{prop} = \\frac{x - min}{max - min}$ \n",
    "\n",
    "Now x takes values from 0 (if x = min) to 1 (if x = max)\n",
    "\n",
    "Now, we then apply this [0, 1] scale to any range that we'd like, using the following procedure:\n",
    "\n",
    "$x_{scale} = x_{prop} * (max - min) + min$\n",
    "\n",
    "Sklearn provides a variety of $transformers$, modules that allow us to transform the data\n",
    "The MinMaxScaler() performs the range compression that we did above. By default, it compresses the data to [0, 1]. \n",
    "\n",
    "We can instantiate a MinMaxScaler() object, then use its fit, transform, or fit_transform() methods on our data\n",
    "in order to return a scaled version of our data"
   ]
  },
  {
   "cell_type": "code",
   "execution_count": 10,
   "metadata": {},
   "outputs": [
    {
     "name": "stdout",
     "output_type": "stream",
     "text": [
      "[[ 1.2  3.2]\n",
      " [-0.3 -1.2]\n",
      " [ 6.5 10.1]\n",
      " [ 2.2 -8.4]]\n",
      "\n",
      "\n",
      "\n",
      "[[0.22058824 0.62702703]\n",
      " [0.         0.38918919]\n",
      " [1.         1.        ]\n",
      " [0.36764706 0.        ]]\n",
      "\n",
      "\n",
      "\n",
      "[[-0.89705882  1.13513514]\n",
      " [-2.         -0.05405405]\n",
      " [ 3.          3.        ]\n",
      " [-0.16176471 -2.        ]]\n",
      "This is the range of observations from the scaled data: [ 6.8 18.5]\n",
      "This shows that when you fit the data, the MinMaxScaler object takes in the data\n",
      "[[0.22058824 0.62702703]\n",
      " [0.         0.38918919]\n",
      " [1.         1.        ]\n",
      " [0.36764706 0.        ]]\n"
     ]
    }
   ],
   "source": [
    "data = np.array([[ 1.2,  3.2],\n",
    "                 [-0.3, -1.2],\n",
    "                 [ 6.5, 10.1],\n",
    "                 [ 2.2, -8.4]])\n",
    "\n",
    "print(data)\n",
    "print(\"\\n\\n\")\n",
    "\n",
    "# using default params\n",
    "scaler = MinMaxScaler()\n",
    "scaled_data = scaler.fit_transform(data)\n",
    "\n",
    "print(scaled_data)\n",
    "print(\"\\n\\n\")\n",
    "\n",
    "# using new range\n",
    "custom_scaler = MinMaxScaler(feature_range = (-2, 3))\n",
    "custom_scaled_data = custom_scaler.fit_transform(data)\n",
    "print(custom_scaled_data)\n",
    "\n",
    "# we can also take the fit and transform functions separately. \n",
    "# the fit function operates on the MinMaxScaler object and allows it to take in a data object (presumably\n",
    "# now as an attribute, say, scaler.data, of the object?) and transform performs the actual transformation\n",
    "\n",
    "new_scaler = MinMaxScaler()\n",
    "new_scaler.fit(data) # input data\n",
    "print(\"This is the range of observations from the scaled data: {}\".format(new_scaler.data_range_))\n",
    "print(\"This shows that when you fit the data, the MinMaxScaler object takes in the data\")\n",
    "new_data_fit = new_scaler.transform(data) # seems like you still need to input the dataset\n",
    "print(new_data_fit)"
   ]
  },
  {
   "cell_type": "markdown",
   "metadata": {},
   "source": [
    "But, when we scale, it's also important to not be affected by outliers. To do so, we can use sklearn's RobustScaler(), rather than the MinMaxScaler()\n",
    "\n",
    "Previously, we used a dataset's minimum and maximum values to scale. However, if there are outliers, these values skew our dataset. \n",
    "\n",
    "We can robustly scale the data, i.e. avoid being affected by outliers, by using use the data's median and Interquartile Range (IQR). Since the median and IQR are percentile measurements of the data (50% for median, 25% to 75% for the IQR), they are not affected by outliers. For the scaling method, we just subtract the median from each data value then scale to the IQR."
   ]
  },
  {
   "cell_type": "code",
   "execution_count": 12,
   "metadata": {},
   "outputs": [
    {
     "name": "stdout",
     "output_type": "stream",
     "text": [
      "[[ 1.2  3.2]\n",
      " [-0.3 -1.2]\n",
      " [ 6.5 10.1]\n",
      " [ 2.2 -8.4]]\n",
      "\n",
      "\n",
      "[[-0.20408163  0.27760252]\n",
      " [-0.81632653 -0.27760252]\n",
      " [ 1.95918367  1.14826498]\n",
      " [ 0.20408163 -1.18611987]]\n"
     ]
    }
   ],
   "source": [
    "# using RobustScaler()\n",
    "# the fit method doesn't store the data. Rather, it keeps the median and quartiles that will then be used during\n",
    "# the transformation\n",
    "\n",
    "print(data)\n",
    "print(\"\\n\")\n",
    "robust_scaler = RobustScaler()\n",
    "transformed = robust_scaler.fit_transform(data)\n",
    "print(transformed)"
   ]
  },
  {
   "cell_type": "markdown",
   "metadata": {},
   "source": [
    "Each of the scaling features above were done for individual columns. \n",
    "\n",
    "But, what if we instead wanted to standardize the values of a row? This is helpful, for example, in cases where we need all the entries in a row to add up to 1?\n",
    "\n",
    "To do so, we can normalize our data. \n",
    "\n",
    "One normalization method is L2 normalization, in which we divide each row's observations by the L2 norm of that row. \n",
    "\n",
    "Remember, a norm $L_p$ is defined as:\n",
    "\n",
    "$||X||_p = (\\sum\\limits_{i = 1}^{N} |X_i|^p)^{1/p}$\n",
    "\n",
    "In sklearn, the L2 normalization is implemented by the Normalizer"
   ]
  },
  {
   "cell_type": "code",
   "execution_count": 13,
   "metadata": {},
   "outputs": [
    {
     "name": "stdout",
     "output_type": "stream",
     "text": [
      "[[ 1.2  3.2]\n",
      " [-0.3 -1.2]\n",
      " [ 6.5 10.1]\n",
      " [ 2.2 -8.4]]\n",
      "\n",
      "\n",
      "array([[ 0.35112344,  0.93632918],\n",
      "       [-0.24253563, -0.9701425 ],\n",
      "       [ 0.54117832,  0.84090786],\n",
      "       [ 0.25335939, -0.96737222]])\n",
      "\n"
     ]
    }
   ],
   "source": [
    "from sklearn.preprocessing import Normalizer\n",
    "\n",
    "print(data)\n",
    "print(\"\\n\")\n",
    "\n",
    "normalizer = Normalizer()\n",
    "transformed = normalizer.fit_transform(data)\n",
    "print('{}\\n'.format(repr(transformed)))"
   ]
  },
  {
   "cell_type": "markdown",
   "metadata": {},
   "source": [
    "We also will have cases where we're missing data. How do we impute missing data?\n",
    "\n",
    "In sklearn, the SimpleImputer() transformer provides 4 common imputation methods: using the mean value, using the median value, using the most common value, and using a constant value. "
   ]
  },
  {
   "cell_type": "code",
   "execution_count": 18,
   "metadata": {},
   "outputs": [
    {
     "name": "stdout",
     "output_type": "stream",
     "text": [
      "[[ 1.  2. nan  2.]\n",
      " [ 5. nan  1.  2.]\n",
      " [ 4. nan  3. nan]\n",
      " [ 5.  6.  8.  1.]\n",
      " [nan  7. nan  0.]]\n",
      "\n",
      "\n",
      "[[1.   2.   4.   2.  ]\n",
      " [5.   5.   1.   2.  ]\n",
      " [4.   5.   3.   1.25]\n",
      " [5.   6.   8.   1.  ]\n",
      " [3.75 7.   4.   0.  ]]\n",
      "\n",
      "\n",
      "[[1.  2.  3.  2. ]\n",
      " [5.  6.  1.  2. ]\n",
      " [4.  6.  3.  1.5]\n",
      " [5.  6.  8.  1. ]\n",
      " [4.5 7.  3.  0. ]]\n",
      "\n",
      "\n"
     ]
    }
   ],
   "source": [
    "from sklearn.impute import SimpleImputer\n",
    "\n",
    "data_missing = np.array([[ 1.,  2., np.nan,  2.],\n",
    "                         [ 5., np.nan,  1.,  2.],\n",
    "                         [ 4., np.nan,  3., np.nan],\n",
    "                         [ 5.,  6.,  8.,  1.],\n",
    "                         [np.nan,  7., np.nan,  0.]])\n",
    "\n",
    "print(data_missing)\n",
    "print(\"\\n\")\n",
    "\n",
    "impute_mean = SimpleImputer(strategy = 'mean')\n",
    "imputed_data = impute_mean.fit_transform(data_missing)\n",
    "print(imputed_data)\n",
    "print(\"\\n\")\n",
    "\n",
    "impute_median = SimpleImputer(strategy = 'median')\n",
    "imputed_median_data = impute_median.fit_transform(data_missing)\n",
    "print(imputed_median_data)\n",
    "print(\"\\n\")"
   ]
  },
  {
   "cell_type": "markdown",
   "metadata": {},
   "source": [
    "As a part of our data preprocessing steps, we can also perform dimensionality reduction and reduce the number of columns in our dataset. One approach to doing this is by performing PCA. \n",
    "\n",
    "PCA extracts the principal components of the dataset, which are an uncorrelated set of latent variables that encompass most of the information from the original dataset. Using a smaller set of principal components can make it a lot easier to use the dataset in statistical or machine learning models (especially when the original dataset contains many correlated features).\n",
    "\n",
    "Like any other data transformation method, there is a PCA() transformer in sklearn. When we initialize the PCA() object, we can include an \"n_components\" keyword (default = m - 1, where m = # of features) that determines how many principal components will be a part of our analysis. "
   ]
  },
  {
   "cell_type": "code",
   "execution_count": 24,
   "metadata": {},
   "outputs": [
    {
     "name": "stdout",
     "output_type": "stream",
     "text": [
      "array([[-4.8600e+00,  4.6300e+00, -4.7000e-02,  0.0000e+00],\n",
      "       [-3.7990e+00, -1.3180e+00,  1.2700e-01,  0.0000e+00],\n",
      "       [-1.8630e+00, -4.2260e+00, -8.9000e-02,  0.0000e+00],\n",
      "       [ 1.0522e+01,  9.1400e-01,  9.0000e-03,  0.0000e+00]])\n",
      "\n",
      "array([[-4.8600e+00,  4.6300e+00, -4.7000e-02],\n",
      "       [-3.7990e+00, -1.3180e+00,  1.2700e-01],\n",
      "       [-1.8630e+00, -4.2260e+00, -8.9000e-02],\n",
      "       [ 1.0522e+01,  9.1400e-01,  9.0000e-03]])\n",
      "\n",
      "array([[-4.86 ,  4.63 ],\n",
      "       [-3.799, -1.318],\n",
      "       [-1.863, -4.226],\n",
      "       [10.522,  0.914]])\n",
      "\n"
     ]
    }
   ],
   "source": [
    "# perform PCA on a new set of data\n",
    "new_data = np.array([[ 1.5,  3. ,  9. , -0.5,  1. ],\n",
    "                     [ 2.2,  4.3,  3.5,  0.6,  2.7],\n",
    "                     [ 3. ,  6.1,  1.1,  1.2,  4.2],\n",
    "                     [ 8. , 16. ,  7.7, -1. ,  7.1]])\n",
    "\n",
    "from sklearn.decomposition import PCA\n",
    "\n",
    "pca_obj = PCA() # The value of n_component will be 4. As m is 5 and default is always m-1\n",
    "pc = pca_obj.fit_transform(new_data).round(3) # keeps 4 columns, projects data along these 4 principal components\n",
    "print('{}\\n'.format(repr(pc)))\n",
    "\n",
    "pca_obj = PCA(n_components=3)\n",
    "pc = pca_obj.fit_transform(new_data).round(3) # keeps 3 columns, projects data along these three columns\n",
    "print('{}\\n'.format(repr(pc)))\n",
    "\n",
    "pca_obj = PCA(n_components=2)\n",
    "pc = pca_obj.fit_transform(new_data).round(3) # keeps 2 columns, projects data along these two columns\n",
    "print('{}\\n'.format(repr(pc)))\n",
    "\n",
    "#NOTE: each row(observation) has only 2, 3, or 4 values, in contrast to 5 from before. These\n",
    "# values are its projections onto the principal components (e.g., entry [0, 0] is the first observation's \n",
    "# projection onto the first axis, or the first principal component, while entry [0, 2] is the first observation's\n",
    "# projection onto the third axis, or the third principal component)."
   ]
  },
  {
   "cell_type": "markdown",
   "metadata": {},
   "source": [
    "Now, let's look at an example of separating data by class:\n",
    "\n",
    "In this example, we are looking at tumors (malignant vs. benign). We can project the data along two principal components, get our transformed data after we project it ontho these two components, then graph them. Given the nature of this particular data, we will see that the data likely clusters nicely around the principal component, since we do see natural clustering"
   ]
  },
  {
   "cell_type": "code",
   "execution_count": 25,
   "metadata": {},
   "outputs": [
    {
     "name": "stdout",
     "output_type": "stream",
     "text": [
      "array([[1.799e+01, 1.038e+01, 1.228e+02, ..., 2.654e-01, 4.601e-01,\n",
      "        1.189e-01],\n",
      "       [2.057e+01, 1.777e+01, 1.329e+02, ..., 1.860e-01, 2.750e-01,\n",
      "        8.902e-02],\n",
      "       [1.969e+01, 2.125e+01, 1.300e+02, ..., 2.430e-01, 3.613e-01,\n",
      "        8.758e-02],\n",
      "       ...,\n",
      "       [1.660e+01, 2.808e+01, 1.083e+02, ..., 1.418e-01, 2.218e-01,\n",
      "        7.820e-02],\n",
      "       [2.060e+01, 2.933e+01, 1.401e+02, ..., 2.650e-01, 4.087e-01,\n",
      "        1.240e-01],\n",
      "       [7.760e+00, 2.454e+01, 4.792e+01, ..., 0.000e+00, 2.871e-01,\n",
      "        7.039e-02]])\n",
      "\n",
      "Data shape: (569, 30)\n",
      "\n",
      "array([0, 0, 0, 0, 0, 0, 0, 0, 0, 0, 0, 0, 0, 0, 0, 0, 0, 0, 0, 1, 1, 1,\n",
      "       0, 0, 0, 0, 0, 0, 0, 0, 0, 0, 0, 0, 0, 0, 0, 1, 0, 0, 0, 0, 0, 0,\n",
      "       0, 0, 1, 0, 1, 1, 1, 1, 1, 0, 0, 1, 0, 0, 1, 1, 1, 1, 0, 1, 0, 0,\n",
      "       1, 1, 1, 1, 0, 1, 0, 0, 1, 0, 1, 0, 0, 1, 1, 1, 0, 0, 1, 0, 0, 0,\n",
      "       1, 1, 1, 0, 1, 1, 0, 0, 1, 1, 1, 0, 0, 1, 1, 1, 1, 0, 1, 1, 0, 1,\n",
      "       1, 1, 1, 1, 1, 1, 1, 0, 0, 0, 1, 0, 0, 1, 1, 1, 0, 0, 1, 0, 1, 0,\n",
      "       0, 1, 0, 0, 1, 1, 0, 1, 1, 0, 1, 1, 1, 1, 0, 1, 1, 1, 1, 1, 1, 1,\n",
      "       1, 1, 0, 1, 1, 1, 1, 0, 0, 1, 0, 1, 1, 0, 0, 1, 1, 0, 0, 1, 1, 1,\n",
      "       1, 0, 1, 1, 0, 0, 0, 1, 0, 1, 0, 1, 1, 1, 0, 1, 1, 0, 0, 1, 0, 0,\n",
      "       0, 0, 1, 0, 0, 0, 1, 0, 1, 0, 1, 1, 0, 1, 0, 0, 0, 0, 1, 1, 0, 0,\n",
      "       1, 1, 1, 0, 1, 1, 1, 1, 1, 0, 0, 1, 1, 0, 1, 1, 0, 0, 1, 0, 1, 1,\n",
      "       1, 1, 0, 1, 1, 1, 1, 1, 0, 1, 0, 0, 0, 0, 0, 0, 0, 0, 0, 0, 0, 0,\n",
      "       0, 0, 1, 1, 1, 1, 1, 1, 0, 1, 0, 1, 1, 0, 1, 1, 0, 1, 0, 0, 1, 1,\n",
      "       1, 1, 1, 1, 1, 1, 1, 1, 1, 1, 1, 0, 1, 1, 0, 1, 0, 1, 1, 1, 1, 1,\n",
      "       1, 1, 1, 1, 1, 1, 1, 1, 1, 0, 1, 1, 1, 0, 1, 0, 1, 1, 1, 1, 0, 0,\n",
      "       0, 1, 1, 1, 1, 0, 1, 0, 1, 0, 1, 1, 1, 0, 1, 1, 1, 1, 1, 1, 1, 0,\n",
      "       0, 0, 1, 1, 1, 1, 1, 1, 1, 1, 1, 1, 1, 0, 0, 1, 0, 0, 0, 1, 0, 0,\n",
      "       1, 1, 1, 1, 1, 0, 1, 1, 1, 1, 1, 0, 1, 1, 1, 0, 1, 1, 0, 0, 1, 1,\n",
      "       1, 1, 1, 1, 0, 1, 1, 1, 1, 1, 1, 1, 0, 1, 1, 1, 1, 1, 0, 1, 1, 0,\n",
      "       1, 1, 1, 1, 1, 1, 1, 1, 1, 1, 1, 1, 0, 1, 0, 0, 1, 0, 1, 1, 1, 1,\n",
      "       1, 0, 1, 1, 0, 1, 0, 1, 1, 0, 1, 0, 1, 1, 1, 1, 1, 1, 1, 1, 0, 0,\n",
      "       1, 1, 1, 1, 1, 1, 0, 1, 1, 1, 1, 1, 1, 1, 1, 1, 1, 0, 1, 1, 1, 1,\n",
      "       1, 1, 1, 0, 1, 0, 1, 1, 0, 1, 1, 1, 1, 1, 0, 0, 1, 0, 1, 0, 1, 1,\n",
      "       1, 1, 1, 0, 1, 1, 0, 1, 0, 1, 0, 0, 1, 1, 1, 0, 1, 1, 1, 1, 1, 1,\n",
      "       1, 1, 1, 1, 1, 0, 1, 0, 0, 1, 1, 1, 1, 1, 1, 1, 1, 1, 1, 1, 1, 1,\n",
      "       1, 1, 1, 1, 1, 1, 1, 1, 1, 1, 1, 1, 0, 0, 0, 0, 0, 0, 1])\n",
      "\n",
      "Labels shape: (569,)\n",
      "\n",
      "['malignant', 'benign']\n",
      "\n",
      "Malignant shape: (212, 30)\n",
      "\n",
      "Benign shape: (357, 30)\n",
      "\n"
     ]
    }
   ],
   "source": [
    "from sklearn.datasets import load_breast_cancer\n",
    "bc = load_breast_cancer()\n",
    "print('{}\\n'.format(repr(bc.data)))\n",
    "print('Data shape: {}\\n'.format(bc.data.shape))\n",
    "\n",
    "# Class labels\n",
    "print('{}\\n'.format(repr(bc.target)))\n",
    "print('Labels shape: {}\\n'.format(bc.target.shape))\n",
    "\n",
    "# Label names\n",
    "print('{}\\n'.format(list(bc.target_names)))\n",
    "\n",
    "malignant = bc.data[bc.target == 0]\n",
    "print('Malignant shape: {}\\n'.format(malignant.shape))\n",
    "\n",
    "benign = bc.data[bc.target == 1]\n",
    "print('Benign shape: {}\\n'.format(benign.shape))"
   ]
  },
  {
   "cell_type": "code",
   "execution_count": 26,
   "metadata": {},
   "outputs": [],
   "source": [
    "def get_label_info(component_data, labels,class_label, label_names):\n",
    "    \"\"\"\n",
    "        Extracts the label from the observation. In this case, used on data that's\n",
    "        already been projected onto the principal component\n",
    "    \"\"\"\n",
    "    label_name = label_names[class_label]\n",
    "    label_data = component_data[labels == class_label]\n",
    "    return (label_name, label_data)"
   ]
  },
  {
   "cell_type": "code",
   "execution_count": 27,
   "metadata": {},
   "outputs": [],
   "source": [
    "def separate_data(component_data, labels,label_names):\n",
    "    separated_data = []\n",
    "    for class_label in range(len(label_names)):\n",
    "        separated_data.append(get_label_info(\n",
    "            component_data, labels, class_label, label_names))\n",
    "    return separated_data"
   ]
  },
  {
   "cell_type": "code",
   "execution_count": 29,
   "metadata": {},
   "outputs": [
    {
     "data": {
      "image/png": "[encoded data removed]",
      "text/plain": [
       "<Figure size 432x288 with 1 Axes>"
      ]
     },
     "metadata": {
      "needs_background": "light"
     },
     "output_type": "display_data"
    }
   ],
   "source": [
    "from sklearn.datasets import load_breast_cancer\n",
    "from sklearn.decomposition import PCA\n",
    "bc = load_breast_cancer()\n",
    "pca_obj = PCA(n_components=2)\n",
    "component_data = pca_obj.fit_transform(bc.data)\n",
    "labels = bc.target\n",
    "label_names = bc.target_names\n",
    "# Using the completed separate_data function\n",
    "separated_data = separate_data(component_data,\n",
    "                               labels, label_names)\n",
    "\n",
    "# Plotting the data\n",
    "import matplotlib.pyplot as plt\n",
    "for label_name, label_data in separated_data:\n",
    "    col1 = label_data[:, 0]  # 1st column (1st pr. comp.)\n",
    "    col2 = label_data[:, 1]  # 2nd column (2nd pr. comp.)\n",
    "    plt.scatter(col1, col2, label=label_name) # scatterplot\n",
    "plt.legend()  # adds legend to plot\n",
    "plt.title('Breast Cancer Dataset PCA Plot')\n",
    "plt.show()"
   ]
  },
  {
   "cell_type": "code",
   "execution_count": null,
   "metadata": {},
   "outputs": [],
   "source": []
  }
 ],
 "metadata": {
  "kernelspec": {
   "display_name": "Python 3",
   "language": "python",
   "name": "python3"
  },
  "language_info": {
   "codemirror_mode": {
    "name": "ipython",
    "version": 3
   },
   "file_extension": ".py",
   "mimetype": "text/x-python",
   "name": "python",
   "nbconvert_exporter": "python",
   "pygments_lexer": "ipython3",
   "version": "3.7.2"
  }
 },
 "nbformat": 4,
 "nbformat_minor": 2
}
